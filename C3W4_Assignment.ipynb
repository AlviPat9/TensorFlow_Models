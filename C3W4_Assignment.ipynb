{
  "metadata": {
    "accelerator": "GPU",
    "dlai_version": "1.2.0",
    "jupytext": {
      "main_language": "python"
    },
    "kernelspec": {
      "name": "python",
      "display_name": "Python (Pyodide)",
      "language": "python"
    },
    "language_info": {
      "codemirror_mode": {
        "name": "python",
        "version": 3
      },
      "file_extension": ".py",
      "mimetype": "text/x-python",
      "name": "python",
      "nbconvert_exporter": "python",
      "pygments_lexer": "ipython3",
      "version": "3.8"
    }
  },
  "nbformat_minor": 4,
  "nbformat": 4,
  "cells": [
    {
      "cell_type": "markdown",
      "source": "# Week 4: Predicting the next word\n\nWelcome to this assignment! During this week you saw how to create a model that will predict the next word in a text sequence, now you will implement such model and train it using a corpus of Shakespeare's sonnets, while also creating some helper functions to pre-process the data.\n\n\nLet's get started!",
      "metadata": {
        "id": "bFWbEb6uGbN-"
      }
    },
    {
      "cell_type": "code",
      "source": "import numpy as np \nimport matplotlib.pyplot as plt\nfrom tensorflow.keras.models import Sequential\nfrom tensorflow.keras.utils import to_categorical \nfrom tensorflow.keras.preprocessing.text import Tokenizer\nfrom tensorflow.keras.preprocessing.sequence import pad_sequences\nfrom tensorflow.keras.layers import Embedding, LSTM, Dense, Bidirectional",
      "metadata": {
        "id": "BOwsuGQQY9OL",
        "tags": [
          "graded"
        ]
      },
      "execution_count": null,
      "outputs": []
    },
    {
      "cell_type": "markdown",
      "source": "For this assignment you will be using the [Shakespeare Sonnets Dataset](https://www.opensourceshakespeare.org/views/sonnets/sonnet_view.php?range=viewrange&sonnetrange1=1&sonnetrange2=154), which contains more than 2000 lines of text extracted from Shakespeare's sonnets.",
      "metadata": {
        "id": "BTxqlHqKHzhr"
      }
    },
    {
      "cell_type": "code",
      "source": "# sonnets.txt\n!gdown --id 108jAePKK4R3BVYBbYJZ32JWUwxeMg20K",
      "metadata": {
        "id": "WZ4qOUzujMP6",
        "tags": [
          "graded"
        ]
      },
      "execution_count": null,
      "outputs": []
    },
    {
      "cell_type": "code",
      "source": "# Define path for file with sonnets\nSONNETS_FILE = './sonnets.txt'\n\n# Read the data\nwith open('./sonnets.txt') as f:\n    data = f.read()\n\n# Convert to lower case and save as a list\ncorpus = data.lower().split(\"\\n\")\n\nprint(f\"There are {len(corpus)} lines of sonnets\\n\")\nprint(f\"The first 5 lines look like this:\\n\")\nfor i in range(5):\n  print(corpus[i])",
      "metadata": {
        "id": "Pfd-nYKij5yY",
        "tags": [
          "graded"
        ]
      },
      "execution_count": null,
      "outputs": []
    },
    {
      "cell_type": "markdown",
      "source": "## Tokenizing the text\n\nNow fit the Tokenizer to the corpus and save the total number of words.",
      "metadata": {
        "id": "imB15zrSNhA1"
      }
    },
    {
      "cell_type": "code",
      "source": "tokenizer = Tokenizer()\ntokenizer.fit_on_texts(corpus)\ntotal_words = len(tokenizer.word_index) + 1",
      "metadata": {
        "id": "AAhM_qAZk0o5",
        "tags": [
          "graded"
        ]
      },
      "execution_count": null,
      "outputs": []
    },
    {
      "cell_type": "markdown",
      "source": "When converting the text into sequences you can use the `texts_to_sequences` method as you have done throughout this course.\n\nIn the next graded function you will need to process this corpus one line at a time. Given this, it is important to keep in mind that the way you are feeding the data unto this method affects the result. Check the following example to make this clearer.\n\nThe first example of the corpus is a string and looks like this:",
      "metadata": {
        "id": "77-0sA46OETa"
      }
    },
    {
      "cell_type": "code",
      "source": "corpus[0]",
      "metadata": {
        "id": "tqhPxdeXlfjh",
        "tags": [
          "graded"
        ]
      },
      "execution_count": null,
      "outputs": []
    },
    {
      "cell_type": "markdown",
      "source": "If you pass this text directly into the `texts_to_sequences` method you will get an unexpected result:",
      "metadata": {
        "id": "XFMP4z11O3os"
      }
    },
    {
      "cell_type": "code",
      "source": "tokenizer.texts_to_sequences(corpus[0])",
      "metadata": {
        "id": "EMSEhmbzNZCE",
        "tags": [
          "graded"
        ]
      },
      "execution_count": null,
      "outputs": []
    },
    {
      "cell_type": "markdown",
      "source": "This happened because `texts_to_sequences` expects a list and you are providing a string. However a string is still and `iterable` in Python so you will get the word index of every character in the string.\n\nInstead you need to place the example whithin a list before passing it to the method:",
      "metadata": {
        "id": "pPZmZtpEPEeI"
      }
    },
    {
      "cell_type": "code",
      "source": "tokenizer.texts_to_sequences([corpus[0]])",
      "metadata": {
        "id": "Qmgo-vXhk4nd",
        "tags": [
          "graded"
        ]
      },
      "execution_count": null,
      "outputs": []
    },
    {
      "cell_type": "markdown",
      "source": "Notice that you received the sequence wrapped inside a list so in order to get only the desired sequence you need to explicitly get the first item in the list like this:",
      "metadata": {
        "id": "0DU7wK-eQ5dc"
      }
    },
    {
      "cell_type": "code",
      "source": "tokenizer.texts_to_sequences([corpus[0]])[0]",
      "metadata": {
        "id": "kpTy8WmIQ57P",
        "tags": [
          "graded"
        ]
      },
      "execution_count": null,
      "outputs": []
    },
    {
      "cell_type": "markdown",
      "source": "## Generating n_grams\n\nNow complete the `n_gram_seqs` function below. This function receives the fitted tokenizer and the corpus (which is a list of strings) and should return a list containing the `n_gram` sequences for each line in the corpus:",
      "metadata": {
        "id": "-oqy9KjXRJ9A"
      }
    },
    {
      "cell_type": "code",
      "source": "# GRADED FUNCTION: n_gram_seqs\ndef n_gram_seqs(corpus, tokenizer):\n    \"\"\"\n    Generates a list of n-gram sequences\n    \n    Args:\n        corpus (list of string): lines of texts to generate n-grams for\n        tokenizer (object): an instance of the Tokenizer class containing the word-index dictionary\n    \n    Returns:\n        input_sequences (list of int): the n-gram sequences for each line in the corpus\n    \"\"\"\n    input_sequences = []\n    \n    ### START CODE HERE\n    for line in corpus:\n        \n        token_list = tokenizer.texts_to_sequences([line])[0]\n        \n        for i in range(len(token_list)):\n            n_gram_sequece = token_list[:i+1]\n            input_sequence.append(n_gram_sequence)\n    ### END CODE HERE\n    \n    return input_sequences",
      "metadata": {
        "id": "iy4baJMDl6kj",
        "tags": [
          "graded"
        ]
      },
      "execution_count": null,
      "outputs": []
    },
    {
      "cell_type": "code",
      "source": "# Test your function with one example\nfirst_example_sequence = n_gram_seqs([corpus[0]], tokenizer)\n\nprint(\"n_gram sequences for first example look like this:\\n\")\nfirst_example_sequence",
      "metadata": {
        "id": "DlKqW2pfM7G3",
        "tags": [
          "graded"
        ]
      },
      "execution_count": null,
      "outputs": []
    },
    {
      "cell_type": "markdown",
      "source": "**Expected Output:**\n\n```\nn_gram sequences for first example look like this:\n\n[[34, 417],\n [34, 417, 877],\n [34, 417, 877, 166],\n [34, 417, 877, 166, 213],\n [34, 417, 877, 166, 213, 517]]\n```",
      "metadata": {
        "id": "0HL8Ug6UU0Jt"
      }
    },
    {
      "cell_type": "code",
      "source": "# Test your function with a bigger corpus\nnext_3_examples_sequence = n_gram_seqs(corpus[1:4], tokenizer)\n\nprint(\"n_gram sequences for next 3 examples look like this:\\n\")\nnext_3_examples_sequence",
      "metadata": {
        "id": "wtPpCcBjNc4c",
        "tags": [
          "graded"
        ]
      },
      "execution_count": null,
      "outputs": []
    },
    {
      "cell_type": "markdown",
      "source": "**Expected Output:**\n\n```\nn_gram sequences for next 3 examples look like this:\n\n[[8, 878],\n [8, 878, 134],\n [8, 878, 134, 351],\n [8, 878, 134, 351, 102],\n [8, 878, 134, 351, 102, 156],\n [8, 878, 134, 351, 102, 156, 199],\n [16, 22],\n [16, 22, 2],\n [16, 22, 2, 879],\n [16, 22, 2, 879, 61],\n [16, 22, 2, 879, 61, 30],\n [16, 22, 2, 879, 61, 30, 48],\n [16, 22, 2, 879, 61, 30, 48, 634],\n [25, 311],\n [25, 311, 635],\n [25, 311, 635, 102],\n [25, 311, 635, 102, 200],\n [25, 311, 635, 102, 200, 25],\n [25, 311, 635, 102, 200, 25, 278]]\n```",
      "metadata": {
        "id": "EIzecMczU9UB"
      }
    },
    {
      "cell_type": "markdown",
      "source": "Apply the `n_gram_seqs` transformation to the whole corpus and save the maximum sequence length to use it later:",
      "metadata": {
        "id": "dx3V_RjFWQSu"
      }
    },
    {
      "cell_type": "code",
      "source": "# Apply the n_gram_seqs transformation to the whole corpus\ninput_sequences = n_gram_seqs(corpus, tokenizer)\n\n# Save max length \nmax_sequence_len = max([len(x) for x in input_sequences])\n\nprint(f\"n_grams of input_sequences have length: {len(input_sequences)}\")\nprint(f\"maximum length of sequences is: {max_sequence_len}\")",
      "metadata": {
        "id": "laMwiRUpmuSd",
        "tags": [
          "graded"
        ]
      },
      "execution_count": null,
      "outputs": []
    },
    {
      "cell_type": "markdown",
      "source": "**Expected Output:**\n\n```\nn_grams of input_sequences have length: 15462\nmaximum length of sequences is: 11\n```",
      "metadata": {
        "id": "2OciMdmEdE9L"
      }
    },
    {
      "cell_type": "markdown",
      "source": "## Add padding to the sequences\n\nNow code the `pad_seqs` function which will pad any given sequences to the desired maximum length. Notice that this function receives a list of sequences and should return a numpy array with the padded sequences: ",
      "metadata": {
        "id": "zHY7HroqWq12"
      }
    },
    {
      "cell_type": "code",
      "source": "# GRADED FUNCTION: pad_seqs\ndef pad_seqs(input_sequences, maxlen):\n    \"\"\"\n    Pads tokenized sequences to the same length\n    \n    Args:\n        input_sequences (list of int): tokenized sequences to pad\n        maxlen (int): maximum length of the token sequences\n    \n    Returns:\n        padded_sequences (array of int): tokenized sequences padded to the same length\n    \"\"\"\n    ### START CODE HERE\n    padded_sequences = pad_sequences(input_sentences, maxlen=maxlen, padding='pre')\n    \n    return padded_sequences\n    ### END CODE HERE",
      "metadata": {
        "cellView": "code",
        "id": "WW1-qAZaWOhC",
        "tags": [
          "graded"
        ]
      },
      "execution_count": null,
      "outputs": []
    },
    {
      "cell_type": "code",
      "source": "# Test your function with the n_grams_seq of the first example\nfirst_padded_seq = pad_seqs(first_example_sequence, len(first_example_sequence))\nfirst_padded_seq",
      "metadata": {
        "id": "IqVQ0pb3YHLr",
        "tags": [
          "graded"
        ]
      },
      "execution_count": null,
      "outputs": []
    },
    {
      "cell_type": "markdown",
      "source": "**Expected Output:**\n\n```\narray([[  0,   0,   0,  34, 417],\n       [  0,   0,  34, 417, 877],\n       [  0,  34, 417, 877, 166],\n       [ 34, 417, 877, 166, 213],\n       [417, 877, 166, 213, 517]], dtype=int32)\n```",
      "metadata": {
        "id": "Re_avDznXRnU"
      }
    },
    {
      "cell_type": "code",
      "source": "# Test your function with the n_grams_seq of the next 3 examples\nnext_3_padded_seq = pad_seqs(next_3_examples_sequence, max([len(s) for s in next_3_examples_sequence]))\nnext_3_padded_seq",
      "metadata": {
        "id": "j56_UCOBYzZt",
        "tags": [
          "graded"
        ]
      },
      "execution_count": null,
      "outputs": []
    },
    {
      "cell_type": "markdown",
      "source": "**Expected Output:**\n\n```\narray([[  0,   0,   0,   0,   0,   0,   8, 878],\n       [  0,   0,   0,   0,   0,   8, 878, 134],\n       [  0,   0,   0,   0,   8, 878, 134, 351],\n       [  0,   0,   0,   8, 878, 134, 351, 102],\n       [  0,   0,   8, 878, 134, 351, 102, 156],\n       [  0,   8, 878, 134, 351, 102, 156, 199],\n       [  0,   0,   0,   0,   0,   0,  16,  22],\n       [  0,   0,   0,   0,   0,  16,  22,   2],\n       [  0,   0,   0,   0,  16,  22,   2, 879],\n       [  0,   0,   0,  16,  22,   2, 879,  61],\n       [  0,   0,  16,  22,   2, 879,  61,  30],\n       [  0,  16,  22,   2, 879,  61,  30,  48],\n       [ 16,  22,   2, 879,  61,  30,  48, 634],\n       [  0,   0,   0,   0,   0,   0,  25, 311],\n       [  0,   0,   0,   0,   0,  25, 311, 635],\n       [  0,   0,   0,   0,  25, 311, 635, 102],\n       [  0,   0,   0,  25, 311, 635, 102, 200],\n       [  0,   0,  25, 311, 635, 102, 200,  25],\n       [  0,  25, 311, 635, 102, 200,  25, 278]], dtype=int32)\n```",
      "metadata": {
        "id": "3rmcDluOXcIU"
      }
    },
    {
      "cell_type": "code",
      "source": "# Pad the whole corpus\ninput_sequences = pad_seqs(input_sequences, max_sequence_len)\n\nprint(f\"padded corpus has shape: {input_sequences.shape}\")",
      "metadata": {
        "id": "rgK-Q_micEYA",
        "tags": [
          "graded"
        ]
      },
      "execution_count": null,
      "outputs": []
    },
    {
      "cell_type": "markdown",
      "source": "**Expected Output:**\n\n```\npadded corpus has shape: (15462, 11)\n```",
      "metadata": {
        "id": "59RD1YYNc7CW"
      }
    },
    {
      "cell_type": "markdown",
      "source": "## Split the data into features and labels\n\nBefore feeding the data into the neural network you should split it into features and labels. In this case the features will be the padded n_gram sequences with the last word removed from them and the labels will be the removed word.\n\nComplete the `features_and_labels` function below. This function expects the padded n_gram sequences as input and should return a tuple containing the features and the one hot encoded labels.\n\nNotice that the function also receives the total of words in the corpus, this parameter will be very important when one hot enconding the labels since every word in the corpus will be a label at least once. If you need a refresh of how the `to_categorical` function works take a look at the [docs](https://www.tensorflow.org/api_docs/python/tf/keras/utils/to_categorical)",
      "metadata": {
        "id": "ZbOidyPrXxf7"
      }
    },
    {
      "cell_type": "code",
      "source": "# GRADED FUNCTION: features_and_labels\ndef features_and_labels(input_sequences, total_words):\n    \"\"\"\n    Generates features and labels from n-grams\n    \n    Args:\n        input_sequences (list of int): sequences to split features and labels from\n        total_words (int): vocabulary size\n    \n    Returns:\n        features, one_hot_labels (array of int, array of int): arrays of features and one-hot encoded labels\n    \"\"\"\n    ### START CODE HERE\n    features = input_sequences[:,:-1]\n    labels = input_sequences[:,-1]\n    one_hot_labels = to_categorical(labels, total_words)\n    ### END CODE HERE\n\n    return features, one_hot_labels",
      "metadata": {
        "cellView": "code",
        "id": "9WGGbYdnZdmJ",
        "tags": [
          "graded"
        ]
      },
      "execution_count": null,
      "outputs": []
    },
    {
      "cell_type": "code",
      "source": "# Test your function with the padded n_grams_seq of the first example\nfirst_features, first_labels = features_and_labels(first_padded_seq, total_words)\n\nprint(f\"labels have shape: {first_labels.shape}\")\nprint(\"\\nfeatures look like this:\\n\")\nfirst_features",
      "metadata": {
        "id": "23DolaBRaIAZ",
        "tags": [
          "graded"
        ]
      },
      "execution_count": null,
      "outputs": []
    },
    {
      "cell_type": "markdown",
      "source": "**Expected Output:**\n\n```\nlabels have shape: (5, 3211)\n\nfeatures look like this:\n\narray([[  0,   0,   0,  34],\n       [  0,   0,  34, 417],\n       [  0,  34, 417, 877],\n       [ 34, 417, 877, 166],\n       [417, 877, 166, 213]], dtype=int32)\n```",
      "metadata": {
        "id": "7t4yAx2UaQ43"
      }
    },
    {
      "cell_type": "code",
      "source": "# Split the whole corpus\nfeatures, labels = features_and_labels(input_sequences, total_words)\n\nprint(f\"features have shape: {features.shape}\")\nprint(f\"labels have shape: {labels.shape}\")",
      "metadata": {
        "id": "GRTuLEt3bRKa",
        "tags": [
          "graded"
        ]
      },
      "execution_count": null,
      "outputs": []
    },
    {
      "cell_type": "markdown",
      "source": "**Expected Output:**\n\n```\nfeatures have shape: (15462, 10)\nlabels have shape: (15462, 3211)\n```",
      "metadata": {
        "id": "xXSMK_HpdLns"
      }
    },
    {
      "cell_type": "markdown",
      "source": "## Create the model\n\nNow you should define a model architecture capable of achieving an accuracy of at least 80%.\n\nSome hints to help you in this task:\n\n- An appropriate `output_dim` for the first layer (Embedding) is 100, this is already provided for you.\n- A Bidirectional LSTM is helpful for this particular problem.\n- The last layer should have the same number of units as the total number of words in the corpus and a softmax activation function.\n- This problem can be solved with only two layers (excluding the Embedding) so try out small architectures first.",
      "metadata": {
        "id": "ltxaOCE_aU6J"
      }
    },
    {
      "cell_type": "code",
      "source": "# GRADED FUNCTION: create_model\ndef create_model(total_words, max_sequence_len):\n    \"\"\"\n    Creates a text generator model\n    \n    Args:\n        total_words (int): size of the vocabulary for the Embedding layer input\n        max_sequence_len (int): length of the input sequences\n    \n    Returns:\n        model (tf.keras Model): the text generator model\n    \"\"\"\n    model = Sequential()\n    ### START CODE HERE\n    model.add(Embedding(total_words, 100, input_length=max_sequence_len))\n    model.add(Bidirectional(LSTM(20))),\n    model.add(Dense(11, activation='softmax'))\n\n    # Compile the model\n    model.compile(loss='categorical_crossentropy',\n                  optimizer=tf.keras.optimizers.Adam(lr=0.001,\n                  metrics=['accuracy'])\n    \n    ### END CODE HERE\n\n    return model",
      "metadata": {
        "cellView": "code",
        "id": "XrE6kpJFfvRY",
        "tags": [
          "graded"
        ]
      },
      "execution_count": null,
      "outputs": []
    },
    {
      "cell_type": "code",
      "source": "# Get the untrained model\nmodel = create_model(total_words, max_sequence_len)\n\n# Train the model\nhistory = model.fit(features, labels, epochs=50, verbose=1)",
      "metadata": {
        "id": "0IpX_Gu_gISk",
        "tags": []
      },
      "execution_count": null,
      "outputs": []
    },
    {
      "cell_type": "markdown",
      "source": "**To pass this assignment, your model should achieve a training accuracy of at least 80%**. If your model didn't achieve this threshold, try training again with a different model architecture, consider increasing the number of unit in your `LSTM` layer.",
      "metadata": {
        "id": "gy72RPgly55q"
      }
    },
    {
      "cell_type": "code",
      "source": "# Take a look at the training curves of your model\n\nacc = history.history['accuracy']\nloss = history.history['loss']\n\nepochs = range(len(acc))\n\nplt.plot(epochs, acc, 'b', label='Training accuracy')\nplt.title('Training accuracy')\n\nplt.figure()\n\nplt.plot(epochs, loss, 'b', label='Training Loss')\nplt.title('Training loss')\nplt.legend()\n\nplt.show()",
      "metadata": {
        "id": "1fXTEO3GJ282",
        "tags": []
      },
      "execution_count": null,
      "outputs": []
    },
    {
      "cell_type": "markdown",
      "source": "Before closing the assignment, be sure to also download the `history.pkl` file which contains the information of the training history of your model and will be used to compute your grade. You can download this file by running the cell below:",
      "metadata": {
        "id": "OjvED5A3qrn2"
      }
    },
    {
      "cell_type": "code",
      "source": "def download_history():\n  import pickle\n  from google.colab import files\n\n  with open('history.pkl', 'wb') as f:\n    pickle.dump(history.history, f)\n\n  files.download('history.pkl')\n\ndownload_history()",
      "metadata": {
        "id": "9QRG73l6qE-c",
        "tags": []
      },
      "execution_count": null,
      "outputs": []
    },
    {
      "cell_type": "markdown",
      "source": "## See your model in action\n\nAfter all your work it is finally time to see your model generating text. \n\nRun the cell below to generate the next 100 words of a seed text.\n\nAfter submitting your assignment you are encouraged to try out training for different amounts of epochs and seeing how this affects the coherency of the generated text. Also try changing the seed text to see what you get!",
      "metadata": {
        "id": "wdsMszk9zBs_"
      }
    },
    {
      "cell_type": "code",
      "source": "seed_text = \"Help me Obi Wan Kenobi, you're my only hope\"\nnext_words = 100\n  \nfor _ in range(next_words):\n\t# Convert the text into sequences\n\ttoken_list = tokenizer.texts_to_sequences([seed_text])[0]\n\t# Pad the sequences\n\ttoken_list = pad_sequences([token_list], maxlen=max_sequence_len-1, padding='pre')\n\t# Get the probabilities of predicting a word\n\tpredicted = model.predict(token_list, verbose=0)\n\t# Choose the next word based on the maximum probability\n\tpredicted = np.argmax(predicted, axis=-1).item()\n\t# Get the actual word from the word index\n\toutput_word = tokenizer.index_word[predicted]\n\t# Append to the current text\n\tseed_text += \" \" + output_word\n\nprint(seed_text)",
      "metadata": {
        "id": "6Vc6PHgxa6Hm",
        "tags": []
      },
      "execution_count": null,
      "outputs": []
    },
    {
      "cell_type": "markdown",
      "source": "You will also need to submit this notebook for grading. To download it, click on the File tab in the upper left corner of the screen then click on Download -> Download .ipynb. You can name it anything you want as long as it is a valid .ipynb (jupyter notebook) file.\n\n**Congratulations on finishing this week's assignment!**\n\nYou have successfully implemented a neural network capable of predicting the next word in a sequence of text!\n\n**We hope to see you in the next course of the specialization! Keep it up!**",
      "metadata": {
        "id": "oQVDbdcYqSux"
      }
    }
  ]
}
