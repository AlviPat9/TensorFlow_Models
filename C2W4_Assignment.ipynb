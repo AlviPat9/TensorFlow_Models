{
  "metadata": {
    "accelerator": "GPU",
    "kernelspec": {
      "name": "python",
      "display_name": "Python (Pyodide)",
      "language": "python"
    },
    "language_info": {
      "codemirror_mode": {
        "name": "python",
        "version": 3
      },
      "file_extension": ".py",
      "mimetype": "text/x-python",
      "name": "python",
      "nbconvert_exporter": "python",
      "pygments_lexer": "ipython3",
      "version": "3.8"
    }
  },
  "nbformat_minor": 5,
  "nbformat": 4,
  "cells": [
    {
      "cell_type": "markdown",
      "source": "# Week 4: Multi-class Classification\n\nWelcome to this assignment! In this exercise, you will get a chance to work on a multi-class classification problem. You will be using the [Sign Language MNIST](https://www.kaggle.com/datamunge/sign-language-mnist) dataset, which contains 28x28 images of hands depicting the 26 letters of the english alphabet. \n\nYou will need to pre-process the data so that it can be fed into your convolutional neural network to correctly classify each image as the letter it represents.\n\n\nLet's get started!",
      "metadata": {
        "id": "0l5n9ToXGbRC"
      },
      "id": "c2e06d3a-f9c2-47fb-8f94-645e92afde26"
    },
    {
      "cell_type": "code",
      "source": "import csv\nimport string\nimport numpy as np\nimport tensorflow as tf\nimport matplotlib.pyplot as plt\nfrom tensorflow.keras.preprocessing.image import ImageDataGenerator, array_to_img",
      "metadata": {
        "id": "wYtuKeK0dImp",
        "tags": [
          "graded"
        ]
      },
      "execution_count": null,
      "outputs": [],
      "id": "37248a81-2755-4fa2-9887-59dfdbd29a35"
    },
    {
      "cell_type": "markdown",
      "source": "Download the training and test sets (the test set will actually be used as a validation set):",
      "metadata": {
        "id": "-zwAPcriH40C"
      },
      "id": "f8b7f3ed-fde3-4dae-b79f-6cd1e348dfed"
    },
    {
      "cell_type": "code",
      "source": "# sign_mnist_train.csv\n!gdown --id 1z0DkA9BytlLxO1C0BAWzknLyQmZAp0HR\n# sign_mnist_test.csv\n!gdown --id 1z1BIj4qmri59GWBG4ivMNFtpZ4AXIbzg",
      "metadata": {
        "colab": {
          "base_uri": "https://localhost:8080/"
        },
        "id": "lydsaiTvaRhI",
        "outputId": "c93fb5cc-0194-43c6-afea-4260cdf6f0c3",
        "tags": []
      },
      "execution_count": null,
      "outputs": [],
      "id": "2a66053b-f6a1-40f0-abb2-f33fa979d6c1"
    },
    {
      "cell_type": "markdown",
      "source": "Define some globals with the path to both files you just downloaded:",
      "metadata": {
        "id": "tnVJZI96IMh0"
      },
      "id": "915d69a0-142d-4441-ad82-c97b67dbef63"
    },
    {
      "cell_type": "code",
      "source": "TRAINING_FILE = './sign_mnist_train.csv'\nVALIDATION_FILE = './sign_mnist_test.csv'",
      "metadata": {
        "id": "N3fQlI99JPw9",
        "tags": [
          "graded"
        ]
      },
      "execution_count": null,
      "outputs": [],
      "id": "4f7879bf-efb6-47f8-a15e-7ef0c91bfbb5"
    },
    {
      "cell_type": "markdown",
      "source": "Unlike previous assignments, you will not have the actual images provided, instead you will have the data serialized as `csv` files.\n\nTake a look at how the data looks like within the `csv` file:",
      "metadata": {
        "id": "iybvOtoHISHV"
      },
      "id": "f9f6a6fa-33dc-4971-a21c-354191d39df8"
    },
    {
      "cell_type": "code",
      "source": "with open(TRAINING_FILE) as training_file:\n  line = training_file.readline()\n  print(f\"First line (header) looks like this:\\n{line}\")\n  line = training_file.readline()\n  print(f\"Each subsequent line (data points) look like this:\\n{line}\")",
      "metadata": {
        "colab": {
          "base_uri": "https://localhost:8080/"
        },
        "id": "ftfeq3JYagks",
        "outputId": "3ed1dd14-7483-425c-d172-b982aeca549c",
        "tags": [
          "graded"
        ]
      },
      "execution_count": null,
      "outputs": [],
      "id": "ddc50ac2-3ea6-41d1-b1b5-b337162497a6"
    },
    {
      "cell_type": "markdown",
      "source": "As you can see, each file includes a header (the first line) and each subsequent data point is represented as a line that contains 785 values. \n\nThe first value is the label (the numeric representation of each letter) and the other 784 values are the value of each pixel of the image. Remember that the original images have a resolution of 28x28, which sums up to 784 pixels.",
      "metadata": {
        "id": "RH23LS7RHA-U"
      },
      "id": "3dbf0ad7-572a-4b7e-b775-ffcfac2fb183"
    },
    {
      "cell_type": "markdown",
      "source": " ## Parsing the dataset\n \n Now complete the `parse_data_from_input` below.\n\n This function should be able to read a file passed as input and return 2 numpy arrays, one containing the labels and one containing the 28x28 representation of each image within the file. These numpy arrays should have type `float64`.\n\n A couple of things to keep in mind:\n \n- The first line contains the column headers, so you should ignore it.\n\n- Each successive line contains 785 comma-separated values between 0 and 255\n  - The first value is the label\n\n  - The rest are the pixel values for that picture\n\n  \n**Hint**:\n\nYou have two options to solve this function. \n  \n   - 1. One is to use `csv.reader` and create a for loop that reads from it, if you take this approach take this into consideration:\n\n        - `csv.reader` returns an iterable that returns a row of the csv file in each iteration.\n    Following this convention, row[0] has the label and row[1:] has the 784 pixel values.\n\n        - To reshape the arrays (going from 784 to 28x28), you can use functions such as [`np.array_split`](https://numpy.org/doc/stable/reference/generated/numpy.array_split.html) or [`np.reshape`](https://numpy.org/doc/stable/reference/generated/numpy.reshape.html).\n\n        - For type conversion of the numpy arrays, use the method [`np.ndarray.astype`](https://numpy.org/doc/stable/reference/generated/numpy.ndarray.astype.html).\n\n\n   - 2. The other one is to use `np.loadtxt`. You can find the documentation [here](https://numpy.org/doc/stable/reference/generated/numpy.loadtxt.html).\n   \n   \nRegardless of the method you chose, your function should finish its execution in under 1 minute. If you see that your function is taking a long time to run, try changing your implementation.",
      "metadata": {
        "id": "_Slnchp3JkCk"
      },
      "id": "94f4b048-536b-42c2-b025-ea0dac2597fd"
    },
    {
      "cell_type": "code",
      "source": "# GRADED FUNCTION: parse_data_from_input\ndef parse_data_from_input(filename):\n  \"\"\"\n  Parses the images and labels from a CSV file\n  \n  Args:\n    filename (string): path to the CSV file\n    \n  Returns:\n    images, labels: tuple of numpy arrays containing the images and labels\n  \"\"\"\n  with open(filename) as file:\n    ### START CODE HERE\n\n    # Use csv.reader, passing in the appropriate delimiter\n    # Remember that csv.reader can be iterated and returns one line in each iteration\n    csv_reader = csv.reader(file, delimiter=None)\n    labels = []\n    images = []\n    for row in csv_reader:\n        labels.append(row[0])\n        images.append(row[1:])\n    \n    \n    labels = np.ndarray(labels).astype('float64')\n    images = np.ndarray(images).astype('float64')\n    images = images.reshape((len(labels), 28, 28))\n    \n    ### END CODE HERE\n\n    return images, labels",
      "metadata": {
        "cellView": "code",
        "id": "EO3u5NIhdNgE",
        "lines_to_next_cell": 2,
        "tags": [
          "graded"
        ]
      },
      "execution_count": null,
      "outputs": [],
      "id": "b84fe48c-a536-43ec-b304-d0804bd7c01c"
    },
    {
      "cell_type": "code",
      "source": "# Test your function\ntraining_images, training_labels = parse_data_from_input(TRAINING_FILE)\nvalidation_images, validation_labels = parse_data_from_input(VALIDATION_FILE)\n\nprint(f\"Training images has shape: {training_images.shape} and dtype: {training_images.dtype}\")\nprint(f\"Training labels has shape: {training_labels.shape} and dtype: {training_labels.dtype}\")\nprint(f\"Validation images has shape: {validation_images.shape} and dtype: {validation_images.dtype}\")\nprint(f\"Validation labels has shape: {validation_labels.shape} and dtype: {validation_labels.dtype}\")",
      "metadata": {
        "colab": {
          "base_uri": "https://localhost:8080/"
        },
        "id": "HeSMXBTUsnhl",
        "outputId": "820ed0cf-98ae-4f77-cfad-ca9b3cab98b9",
        "tags": [
          "graded"
        ]
      },
      "execution_count": null,
      "outputs": [],
      "id": "d6a17a8f-1648-4722-80ee-4e7bd9c41172"
    },
    {
      "cell_type": "markdown",
      "source": "**Expected Output:**\n```\nTraining images has shape: (27455, 28, 28) and dtype: float64\nTraining labels has shape: (27455,) and dtype: float64\nValidation images has shape: (7172, 28, 28) and dtype: float64\nValidation labels has shape: (7172,) and dtype: float64\n```",
      "metadata": {
        "id": "xwqJykm1JqvK"
      },
      "id": "a14daf29-62e5-48d9-86a5-0ddfc1fe2943"
    },
    {
      "cell_type": "markdown",
      "source": "## Visualizing the numpy arrays\n\nNow that you have converted the initial csv data into a format that is compatible with computer vision tasks, take a moment to actually see how the images of the dataset look like:",
      "metadata": {
        "id": "tURDCvUKsXIw"
      },
      "id": "b050c5d5-73e8-4f74-b3d3-a08523b3472a"
    },
    {
      "cell_type": "code",
      "source": "# Plot a sample of 10 images from the training set\ndef plot_categories(training_images, training_labels):\n  fig, axes = plt.subplots(1, 10, figsize=(16, 15))\n  axes = axes.flatten()\n  letters = list(string.ascii_lowercase)\n\n  for k in range(10):\n    img = training_images[k]\n    img = np.expand_dims(img, axis=-1)\n    img = array_to_img(img)\n    ax = axes[k]\n    ax.imshow(img, cmap=\"Greys_r\")\n    ax.set_title(f\"{letters[int(training_labels[k])]}\")\n    ax.set_axis_off()\n\n  plt.tight_layout()\n  plt.show()\n\nplot_categories(training_images, training_labels)",
      "metadata": {
        "colab": {
          "base_uri": "https://localhost:8080/",
          "height": 150
        },
        "id": "BsAH3kVWB1ye",
        "outputId": "18121aa6-4d65-4bd8-88dd-e061e94e0081",
        "tags": []
      },
      "execution_count": null,
      "outputs": [],
      "id": "9641060e-ec15-4c3c-b153-3033e3d0e959"
    },
    {
      "cell_type": "markdown",
      "source": "## Creating the generators for the CNN\n\nNow that you have successfully organized the data in a way that can be easily fed to Keras' `ImageDataGenerator`, it is time for you to code the generators that will yield batches of images, both for training and validation. For this complete the `train_val_generators` function below.\n\nSome important notes:\n\n- The images in this dataset come in the same resolution so you don't need to set a custom `target_size` in this case. In fact, you can't even do so because this time you will not be using the `flow_from_directory` method (as in previous assignments). Instead you will use the [`flow`](https://www.tensorflow.org/api_docs/python/tf/keras/preprocessing/image/ImageDataGenerator#flow) method.\n- You need to add the \"color\" dimension to the numpy arrays that encode the images. These are black and white images, so this new dimension should have a size of 1 (instead of 3, which is used when dealing with colored images). Take a look at the function [`np.expand_dims`](https://numpy.org/doc/stable/reference/generated/numpy.expand_dims.html) for this.",
      "metadata": {
        "id": "0QNkjIRCN5Kg"
      },
      "id": "5c98b635-2b51-49c6-93dd-512fe40826ca"
    },
    {
      "cell_type": "code",
      "source": "# GRADED FUNCTION: train_val_generators\ndef train_val_generators(training_images, training_labels, validation_images, validation_labels):\n  \"\"\"\n  Creates the training and validation data generators\n  \n  Args:\n    training_images (array): parsed images from the train CSV file\n    training_labels (array): parsed labels from the train CSV file\n    validation_images (array): parsed images from the test CSV file\n    validation_labels (array): parsed labels from the test CSV file\n    \n  Returns:\n    train_generator, validation_generator - tuple containing the generators\n  \"\"\"\n  ### START CODE HERE\n\n  # In this section you will have to add another dimension to the data\n  # So, for example, if your array is (10000, 28, 28)\n  # You will need to make it (10000, 28, 28, 1)\n  # Hint: np.expand_dims\n  training_images = np.expand_dims(training_images, axis=1)\n  validation_images = np.expand_dims(validation_images, axis=1)\n\n  # Instantiate the ImageDataGenerator class \n  # Don't forget to normalize pixel values \n  # and set arguments to augment the images (if desired)\n  train_datagen = ImageDataGenerator(rescale=1/255.0,\n                                     rotation_range=45,\n                                     width_shift_range=0.2,\n                                     height_shift_range=0.2,\n                                     shear_range=0.2,\n                                     horizontal_flip=True,\n                                     fill_mode='nearest')\n\n\n  # Pass in the appropriate arguments to the flow method\n  train_generator = train_datagen.flow(x=training_images,\n                                       y=training_labels,\n                                       batch_size=32) \n\n  \n  # Instantiate the ImageDataGenerator class (don't forget to set the rescale argument)\n  # Remember that validation data should not be augmented\n  validation_datagen = ImageDataGenerator(rescale=1/255.0)\n\n  # Pass in the appropriate arguments to the flow method\n  validation_generator = validation_datagen.flow(x=validation_images,\n                                                 y=validation_labels,\n                                                 batch_size=32) \n\n  ### END CODE HERE\n\n  return train_generator, validation_generator",
      "metadata": {
        "cellView": "code",
        "id": "9ZDIvKGtNISO",
        "lines_to_next_cell": 2,
        "tags": [
          "graded"
        ]
      },
      "execution_count": null,
      "outputs": [],
      "id": "90f4797a-31fe-4281-88da-b49ac515a075"
    },
    {
      "cell_type": "code",
      "source": "# Test your generators\ntrain_generator, validation_generator = train_val_generators(training_images, training_labels, validation_images, validation_labels)\n\nprint(f\"Images of training generator have shape: {train_generator.x.shape}\")\nprint(f\"Labels of training generator have shape: {train_generator.y.shape}\")\nprint(f\"Images of validation generator have shape: {validation_generator.x.shape}\")\nprint(f\"Labels of validation generator have shape: {validation_generator.y.shape}\")",
      "metadata": {
        "colab": {
          "base_uri": "https://localhost:8080/"
        },
        "id": "2oxxBZDwPozr",
        "outputId": "5f1a552b-652d-42f1-e3d1-9aa58c7423e1",
        "tags": [
          "graded"
        ]
      },
      "execution_count": null,
      "outputs": [],
      "id": "09e9d543-a872-4470-95ba-70f2e0f518c1"
    },
    {
      "cell_type": "markdown",
      "source": "**Expected Output:**\n```\nImages of training generator have shape: (27455, 28, 28, 1)\nLabels of training generator have shape: (27455,)\nImages of validation generator have shape: (7172, 28, 28, 1)\nLabels of validation generator have shape: (7172,)\n```",
      "metadata": {
        "id": "cok5oQa5Rknv"
      },
      "id": "9167015b-9593-459e-8d9e-844dfdc26a4f"
    },
    {
      "cell_type": "markdown",
      "source": "## Coding the CNN\n\nOne last step before training is to define the architecture of the model that will be trained.\n\nComplete the `create_model` function below. This function should return a Keras' model that uses the `Sequential` or the `Functional` API.\n\nThe last layer of your model should have a number of units that corresponds to the number of possible categories, as well as the correct activation function.\n\nAside from defining the architecture of the model, you should also compile it so make sure to use a `loss` function that is suitable for multi-class classification.\n\n**Note that you should use no more than 2 Conv2D and 2 MaxPooling2D layers to achieve the desired performance.**",
      "metadata": {
        "id": "CkHUj4PsP_jT"
      },
      "id": "d5a14b0e-09b0-4b40-bf1a-fab6bb2e9172"
    },
    {
      "cell_type": "code",
      "source": "def create_model():\n\n  ### START CODE HERE       \n\n  # Define the model\n  # Use no more than 2 Conv2D and 2 MaxPooling2D\n  model = tf.keras.models.Sequential([\n      tf.keras.layers.Conv2D(64, (3,3), activation='relu', input_shape=(28,28,1)),\n      tf.keras.layers.MaxPooling2D(2,2),\n      tf.keras.layers.Conv2D(128, (3,3), activation='relu'),\n      tf.keras.layers.MaxPooling2D(2,2),\n      tf.keras.layers.Flatten(),\n      tf.keras.layers.Dropout(0.5),\n      tf.keras.layers.Dense(512, activation='relu'),\n      tf.keras.layers.Dense(26, activation='softmax')\n      \n  ])\n  \n\n  model.compile(optimizer = tf.keras.optimizers.RMSprop(1e-4),\n                loss = 'categorical_crossentropy',\n                metrics=['accuracy'])\n\n  ### END CODE HERE       \n  \n  return model",
      "metadata": {
        "cellView": "code",
        "id": "Rmb7S32cgRqS",
        "tags": [
          "graded"
        ]
      },
      "execution_count": null,
      "outputs": [],
      "id": "d6d8a6a2-1db2-4399-ba33-d2666e01a94e"
    },
    {
      "cell_type": "code",
      "source": "# Save your model\nmodel = create_model()\n\n# Train your model\nhistory = model.fit(train_generator,\n                    epochs=15,\n                    validation_data=validation_generator)",
      "metadata": {
        "colab": {
          "base_uri": "https://localhost:8080/"
        },
        "id": "-e7ywtgZS5pU",
        "lines_to_next_cell": 2,
        "outputId": "5bc05d6f-91fe-4cbf-a6b4-1d7495b47bef",
        "tags": []
      },
      "execution_count": null,
      "outputs": [],
      "id": "7d6bd80d-0274-415f-b331-f4e953ad08ee"
    },
    {
      "cell_type": "markdown",
      "source": "Now take a look at your training history:",
      "metadata": {
        "id": "mmpadXR_WGbK"
      },
      "id": "c4d4d4b3-036b-4a74-859e-ff7c43cf503f"
    },
    {
      "cell_type": "code",
      "source": "# Plot the chart for accuracy and loss on both training and validation\nacc = history.history['accuracy']\nval_acc = history.history['val_accuracy']\nloss = history.history['loss']\nval_loss = history.history['val_loss']\n\nepochs = range(len(acc))\n\nplt.plot(epochs, acc, 'r', label='Training accuracy')\nplt.plot(epochs, val_acc, 'b', label='Validation accuracy')\nplt.title('Training and validation accuracy')\nplt.legend()\nplt.figure()\n\nplt.plot(epochs, loss, 'r', label='Training Loss')\nplt.plot(epochs, val_loss, 'b', label='Validation Loss')\nplt.title('Training and validation loss')\nplt.legend()\n\nplt.show()",
      "metadata": {
        "colab": {
          "base_uri": "https://localhost:8080/",
          "height": 545
        },
        "id": "_Q3Zpr46dsij",
        "outputId": "906d642c-da0f-4e8e-93af-77e38570fa9b",
        "tags": []
      },
      "execution_count": null,
      "outputs": [],
      "id": "cef64e92-eba9-4127-80dc-935dc2aac513"
    },
    {
      "cell_type": "markdown",
      "source": "You will not be graded based on the accuracy of your model but try making it as high as possible for both training and validation, as an optional exercise, **after submitting your notebook for grading**.\n\nA reasonable benchmark is to achieve over 99% accuracy for training and over 95% accuracy for validation within 15 epochs. Try tweaking your model's architecture or the augmentation techniques to see if you can achieve these levels of accuracy.",
      "metadata": {
        "id": "PdWizvXnXAGz"
      },
      "id": "b99f9df1-e7e4-44fa-8e3a-de1df2bb1864"
    },
    {
      "cell_type": "markdown",
      "source": "You need to submit this notebook for grading. To download it, click on the `File` tab in the upper left corner of the screen then click on `Download` -> `Download .ipynb`. You can name it anything you want as long as it is a valid `.ipynb` (jupyter notebook) file.",
      "metadata": {
        "id": "uTikUFbYTqBo"
      },
      "id": "e18ec4e1-38db-417f-ae4d-0f915d49fae3"
    },
    {
      "cell_type": "markdown",
      "source": "**Congratulations on finishing this week's assignment!**\n\nYou have successfully implemented a convolutional neural network that is able to perform multi-class classification tasks! Nice job!\n\n**Keep it up!**",
      "metadata": {
        "id": "DmHC02GaTuDg"
      },
      "id": "bbbc560f-5077-460a-9ae3-d074a49e34d7"
    }
  ]
}
